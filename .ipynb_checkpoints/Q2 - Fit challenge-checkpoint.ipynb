{
 "cells": [
  {
   "cell_type": "markdown",
   "metadata": {},
   "source": [
    "# Fit challenge\n",
    "\n",
    "You have to find a model for some experimental data that is function of time. You have two candidate models: `pol2` which is quadratic and `exp` which is exponential:\n",
    "\n",
    "$$ \\text{pol2:} \\qquad y = f_{pol2}(t) = c_0 + c_1 t^2$$\n",
    "\n",
    "$$ \\text{exp:} \\qquad y = f_{exp}(t) = c_0 \\exp\\left(\\frac{t}{c_1}\\right)$$\n",
    "\n",
    "\n",
    "## Question 1\n",
    "\n",
    "Your goal is understanding which model better explains the data. Please explain your approach, the process is more important than the final answer.\n",
    "\n",
    "## Question 2\n",
    "\n",
    "How would you scale your approach if you had not one but 1000 independent variables and >1M of samples? "
   ]
  },
  {
   "cell_type": "markdown",
   "metadata": {},
   "source": [
    "# Data\n",
    "\n",
    "You can find the experimental data in a file [`data.csv`](data.csv) in the same folder as the notebook."
   ]
  },
  {
   "cell_type": "markdown",
   "metadata": {},
   "source": [
    "# Instructions\n",
    "\n",
    "1. We want to test your problem solving skills and how you approach a problem. The problem description is dry on purpose. Try describing your reasoning, which options you are considering, your assumptions and how do you reach your conclusion. The process is more important than the final answer.\n",
    "\n",
    "1. We greatly value if you can write clear, well-structured python code, possibly with tests to catch or prevent errors. We also encourage you to add descriptions and formatted text to describe what you did.\n",
    "\n",
    "1. You should use Python 3.6+ plus any additional open source library you deem necessary. Please indicate what additional libraries you used, possibly with instructions for replicating your environment.\n"
   ]
  },
  {
   "cell_type": "markdown",
   "metadata": {},
   "source": [
    "# Solution"
   ]
  },
  {
   "cell_type": "code",
   "execution_count": 2,
   "metadata": {},
   "outputs": [],
   "source": [
    "import numpy as np\n",
    "import pandas as pd\n",
    "import matplotlib.pyplot as plt\n",
    "from scipy.optimize import curve_fit"
   ]
  },
  {
   "cell_type": "markdown",
   "metadata": {
    "pycharm": {
     "name": "#%% md\n"
    }
   },
   "source": [
    "## Question 1: \n",
    "To understanding which model better explains the data. First thing, load the data and look at some sample data"
   ]
  },
  {
   "cell_type": "code",
   "execution_count": 3,
   "metadata": {},
   "outputs": [
    {
     "data": {
      "text/html": [
       "<div>\n",
       "<style scoped>\n",
       "    .dataframe tbody tr th:only-of-type {\n",
       "        vertical-align: middle;\n",
       "    }\n",
       "\n",
       "    .dataframe tbody tr th {\n",
       "        vertical-align: top;\n",
       "    }\n",
       "\n",
       "    .dataframe thead th {\n",
       "        text-align: right;\n",
       "    }\n",
       "</style>\n",
       "<table border=\"1\" class=\"dataframe\">\n",
       "  <thead>\n",
       "    <tr style=\"text-align: right;\">\n",
       "      <th></th>\n",
       "      <th>time</th>\n",
       "      <th>y</th>\n",
       "    </tr>\n",
       "  </thead>\n",
       "  <tbody>\n",
       "    <tr>\n",
       "      <th>0</th>\n",
       "      <td>0.851866</td>\n",
       "      <td>3.781162</td>\n",
       "    </tr>\n",
       "    <tr>\n",
       "      <th>1</th>\n",
       "      <td>1.891230</td>\n",
       "      <td>2.438342</td>\n",
       "    </tr>\n",
       "    <tr>\n",
       "      <th>2</th>\n",
       "      <td>1.916563</td>\n",
       "      <td>3.017439</td>\n",
       "    </tr>\n",
       "    <tr>\n",
       "      <th>3</th>\n",
       "      <td>3.021919</td>\n",
       "      <td>4.302254</td>\n",
       "    </tr>\n",
       "    <tr>\n",
       "      <th>4</th>\n",
       "      <td>3.311168</td>\n",
       "      <td>3.934890</td>\n",
       "    </tr>\n",
       "  </tbody>\n",
       "</table>\n",
       "</div>"
      ],
      "text/plain": [
       "       time         y\n",
       "0  0.851866  3.781162\n",
       "1  1.891230  2.438342\n",
       "2  1.916563  3.017439\n",
       "3  3.021919  4.302254\n",
       "4  3.311168  3.934890"
      ]
     },
     "execution_count": 3,
     "metadata": {},
     "output_type": "execute_result"
    }
   ],
   "source": [
    "df=pd.read_csv('data.csv')\n",
    "df.head(5)"
   ]
  },
  {
   "cell_type": "code",
   "execution_count": 4,
   "metadata": {},
   "outputs": [
    {
     "data": {
      "text/plain": [
       "[<matplotlib.lines.Line2D at 0x1e0a0fb88c8>]"
      ]
     },
     "execution_count": 4,
     "metadata": {},
     "output_type": "execute_result"
    },
    {
     "data": {
      "image/png": "[encoded data removed]",
      "text/plain": [
       "<Figure size 432x288 with 1 Axes>"
      ]
     },
     "metadata": {
      "needs_background": "light"
     },
     "output_type": "display_data"
    }
   ],
   "source": [
    "plt.plot(df['time'],df['y'],'bo')"
   ]
  },
  {
   "cell_type": "markdown",
   "metadata": {
    "pycharm": {
     "name": "#%% md\n"
    }
   },
   "source": [
    "To understand the data properly and visualize it, I have ploted the data. From the plot I can see that y increases with time. \n",
    "We need to find the function which represent the data properly. The function should not underfit or overfit the data and generalized the data properly. I have used 2 functions in the question and optimized using the data. "
   ]
  },
  {
   "cell_type": "code",
   "execution_count": 5,
   "metadata": {},
   "outputs": [],
   "source": [
    "x=df['time'].values\n",
    "y=df['y'].values"
   ]
  },
  {
   "cell_type": "markdown",
   "metadata": {
    "pycharm": {
     "name": "#%% md\n"
    }
   },
   "source": [
    "I have used `SciPy` library's `curve_fit` fuction to fit `pol2` and `exp` function to our data. `curve_fit` will return the value of $C_0$ and $C_1$ for each function. Then I have ploted the functions "
   ]
  },
  {
   "cell_type": "code",
   "execution_count": 6,
   "metadata": {
    "pycharm": {
     "name": "#%%\n"
    }
   },
   "outputs": [
    {
     "name": "stdout",
     "output_type": "stream",
     "text": [
      "[2.42845393e+00 3.21358425e-04]\n",
      "[5.1127758e-14 1.0000000e+00]\n"
     ]
    },
    {
     "data": {
      "image/png": "[encoded data removed]",
      "text/plain": [
       "<Figure size 432x288 with 1 Axes>"
      ]
     },
     "metadata": {
      "needs_background": "light"
     },
     "output_type": "display_data"
    }
   ],
   "source": [
    "def pol2(x, c_0, c_1):\n",
    "    return c_0 + c_1 * x ** 2 \n",
    "\n",
    "def exp1(x,c_0,c_1):\n",
    "    return c_0*np.exp(x/c_1)\n",
    "\n",
    "popt, _ = curve_fit(pol2, x, y)\n",
    "print(popt)\n",
    "\n",
    "popt_cons, _ = curve_fit(exp1,x,y)\n",
    "print(popt_cons)\n",
    "\n",
    "xnew = np.linspace(x[0], x[-1], 1000)\n",
    "\n",
    "plt.plot(x, y, 'bo')\n",
    "plt.plot(x, pol2(x, *popt), 'k-')\n",
    "plt.show()"
   ]
  },
  {
   "cell_type": "markdown",
   "metadata": {},
   "source": [
    "The plot shows `pol2` function optimized using the data."
   ]
  },
  {
   "cell_type": "code",
   "execution_count": 7,
   "metadata": {
    "pycharm": {
     "name": "#%%\n"
    }
   },
   "outputs": [
    {
     "data": {
      "image/png": "[encoded data removed]",
      "text/plain": [
       "<Figure size 432x288 with 1 Axes>"
      ]
     },
     "metadata": {
      "needs_background": "light"
     },
     "output_type": "display_data"
    }
   ],
   "source": [
    "plt.plot(x, y, 'bo')\n",
    "plt.plot(x, exp1(x, *popt_cons), 'r-')\n",
    "plt.show()"
   ]
  },
  {
   "cell_type": "markdown",
   "metadata": {
    "pycharm": {
     "name": "#%%\n"
    }
   },
   "source": [
    "The plot shows `exp` function optimized using the data "
   ]
  },
  {
   "cell_type": "markdown",
   "metadata": {},
   "source": [
    "## conclusion:\n",
    "From the above 2 plots I can see that `pol2` fits the data better than `exp` function. \n",
    "Because `pol2` is a polynomial of order 2 which represent the data properly. It doesn't overfit or underfit the data.\n",
    "On the other hand `exp` underfit the data and gives a very bad representation of the data."
   ]
  },
  {
   "cell_type": "markdown",
   "metadata": {},
   "source": [
    "## Question 2:\n"
   ]
  },
  {
   "cell_type": "markdown",
   "metadata": {},
   "source": [
    "- To scale a machine learning problem with 1000 features and millions of samples. First thing is I would do is create a smaller dataset with same distribution as the original dataset which will have less samples but number of samples should be at least more than number of features.\n",
    "- Then I will test different models and techniques on the smaller dataset. After I found a proper model for our problem I will train that model with more data. \n",
    "- We can use algorithms which allow us to parallelize training. We can use also cloud computing with large computing resources.\n",
    "- We can use GPU for processing. Some of the library allow us to use gpu for training which will speed up the training a lot."
   ]
  },
  {
   "cell_type": "code",
   "execution_count": null,
   "metadata": {},
   "outputs": [],
   "source": []
  }
 ],
 "metadata": {
  "hide_input": false,
  "kernelspec": {
   "display_name": "Python 3",
   "language": "python",
   "name": "python3"
  },
  "language_info": {
   "codemirror_mode": {
    "name": "ipython",
    "version": 3
   },
   "file_extension": ".py",
   "mimetype": "text/x-python",
   "name": "python",
   "nbconvert_exporter": "python",
   "pygments_lexer": "ipython3",
   "version": "3.7.7"
  },
  "pycharm": {
   "stem_cell": {
    "cell_type": "raw",
    "metadata": {
     "collapsed": false
    },
    "source": []
   }
  },
  "toc": {
   "base_numbering": 1,
   "nav_menu": {},
   "number_sections": true,
   "sideBar": true,
   "skip_h1_title": false,
   "title_cell": "Table of Contents",
   "title_sidebar": "Contents",
   "toc_cell": false,
   "toc_position": {},
   "toc_section_display": true,
   "toc_window_display": false
  }
 },
 "nbformat": 4,
 "nbformat_minor": 2
}
