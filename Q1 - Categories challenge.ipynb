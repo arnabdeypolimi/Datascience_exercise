{
 "cells": [
  {
   "cell_type": "markdown",
   "source": [
    "# Category Comparison\n",
    "\n",
    "You have a dataset from a new client. Each row represents a production batch. Each column is a \"property\" or \"feature\" of that production batch. You are interested in analyzing the target variable `out_speed`. In particular, you want to assess how the batch \"properties\" influence the `out_speed`.\n",
    "\n",
    "\n",
    "## Question 1\n",
    "\n",
    "a. Considering the categorical features, find all the \"problematic properties\" \n",
    "(feature values), if any, that results in a \"significant\" decrease in `out_speed`. \n",
    "How would you assess if a decrease in `out_speed` is \"significant\" for a particular \n",
    "sub-set of batches? \n",
    "\n",
    "**Note1:** a subset of batches is a subset of the dataset identified by the \n",
    "value of some features. \n",
    "\n",
    "**Note2:** do not manually cherry-pick properties, \n",
    "implement a search for \"problematic properties\" instead. \n",
    "\n",
    "\n",
    "b. Extend the search to include continuous features.\n",
    "\n",
    "## Question 2\n",
    "\n",
    "2. How would you approach finding not a single but a *combination of multiple properties* \n",
    "resulting in a decrease in `out_speed`?\n",
    "\n",
    "\n",
    "# Instructions\n",
    "\n",
    "For questions 1 and 2, please provide a complete runnable implementation. \n",
    "Code and tests should go (as much as possible) in importable Python module(s)\n",
    "or library. \n",
    "The exploratory analysis and results should be presented in a jupyter notebook \n",
    "with calls the library functions to perform the computation. \n",
    "\n",
    "For question 3, describe the approach you would use. You can provide code examples but you \n",
    "don't need to implement a full runnable solution.\n",
    "\n",
    "Please illustrate your thought process, even mentioning ideas you discarded (if needed). Also, please discuss the assumptions you made\n",
    "on the data, how did you choose the features \n",
    "and what are the trade-offs of your implementation.\n",
    "\n",
    "\n",
    "1. We want to test your problem solving skills and the ability to structure a solution. The problem description is dry on purpose. Please illustrate your thought process, even mentioning ideas you discarded (if needed). Also, please discuss the assumptions you made\n",
    "on the data, how did you choose the features \n",
    "and what are the trade-offs of your implementation.\n",
    "\n",
    "1. We greatly value if you can write clear, well-structured python code, possibly with tests to catch or prevent errors. We also encourage you to add descriptions and formatted text to describe what you did.\n",
    "\n",
    "1. You should use Python 3.6+ plus any additional open source library you deem necessary. Please indicate what additional libraries you used, possibly with instructions for replicating your environment.\n",
    "\n",
    "\n",
    "# Data\n",
    "\n",
    "You can find the experimental data in a file [`ds1_cats.csv`](ds1_cats.csv) in the same folder as the notebook.\n",
    "\n",
    "\n"
   ],
   "metadata": {
    "collapsed": false
   }
  },
  {
   "cell_type": "markdown",
   "source": [
    "## Solution "
   ],
   "metadata": {
    "collapsed": false
   }
  },
  {
   "cell_type": "code",
   "execution_count": null,
   "outputs": [],
   "source": [
    "import numpy as np\n",
    "import pandas as pd\n",
    "from pandas_profiling import ProfileReport\n",
    "import matplotlib.pyplot as plt\n",
    "from sklearn.model_selection import train_test_split\n",
    "from catboost import Pool, CatBoostRegressor, cv"
   ],
   "metadata": {
    "collapsed": false,
    "pycharm": {
     "name": "#%%\n"
    }
   }
  },
  {
   "cell_type": "markdown",
   "source": [
    "### Import the data and show the data"
   ],
   "metadata": {
    "collapsed": false
   }
  },
  {
   "cell_type": "code",
   "execution_count": null,
   "outputs": [],
   "source": [
    "df=pd.read_csv('ds1_cats.csv')\n",
    "df.head(5)"
   ],
   "metadata": {
    "collapsed": false,
    "pycharm": {
     "name": "#%%\n"
    }
   }
  },
  {
   "cell_type": "markdown",
   "source": [
    "### Using ProfileReport library to explore the data"
   ],
   "metadata": {
    "collapsed": false
   }
  },
  {
   "cell_type": "code",
   "execution_count": null,
   "outputs": [],
   "source": [
    "profile = ProfileReport(df, title=\"Pandas Profiling Report\")\n",
    "profile"
   ],
   "metadata": {
    "collapsed": false,
    "pycharm": {
     "name": "#%%\n"
    }
   }
  },
  {
   "cell_type": "markdown",
   "source": [
    "## Question 1\n",
    "Find categorial columns from the dataset "
   ],
   "metadata": {
    "collapsed": false
   }
  },
  {
   "cell_type": "code",
   "execution_count": null,
   "outputs": [],
   "source": [
    "cat_list=df.select_dtypes(include=['object','category']).columns\n",
    "len(cat_list)"
   ],
   "metadata": {
    "collapsed": false,
    "pycharm": {
     "name": "#%%\n"
    }
   }
  },
  {
   "cell_type": "markdown",
   "source": [
    "As I can see there are 9 categorical features in the dataset. Now I will create a diffierent dataset with only 9 categorical features and the `out_speed`, named `df_cat`"
   ],
   "metadata": {
    "collapsed": false
   }
  },
  {
   "cell_type": "code",
   "execution_count": null,
   "outputs": [],
   "source": [
    "df_cat=df[cat_list]\n",
    "df_cat['out_speed']=df['out_speed']\n",
    "df_cat.head(5)"
   ],
   "metadata": {
    "collapsed": false,
    "pycharm": {
     "name": "#%%\n"
    }
   }
  },
  {
   "cell_type": "markdown",
   "source": [
    "following function find columns with missing values and plot those "
   ],
   "metadata": {
    "collapsed": false
   }
  },
  {
   "cell_type": "code",
   "execution_count": null,
   "outputs": [],
   "source": [
    "def plot_missing_value(df):\n",
    "    list_of_col=df.columns\n",
    "    y_1=[]\n",
    "    u=[]\n",
    "    y_2=[]\n",
    "    for l in list_of_col:\n",
    "        y_1.append(len(df[df[l].isnull()]))\n",
    "        u.append(len(df[l].unique()))\n",
    "        y_2.append(len(df)-len(df[df[l].isnull()]))\n",
    "\n",
    "    y_pos = np.arange(len(list_of_col))\n",
    "    plt.figure(figsize=(10,5))\n",
    "    plt.bar(y_pos, y_1, 0.50)\n",
    "    plt.bar(y_pos, y_2, 0.50,bottom=y_1)\n",
    "    plt.xticks(y_pos, list_of_col)\n",
    "    plt.ylabel('number of samples')\n",
    "    plt.xlabel('columns')\n",
    "    plt.title('Number of missing values per column')\n",
    "    for i, v in enumerate(y_1):\n",
    "        plt.text(y_pos[i] - 0.10, v + 0.10, str(v))\n",
    "    plt.show()"
   ],
   "metadata": {
    "collapsed": false,
    "pycharm": {
     "name": "#%%\n"
    }
   }
  },
  {
   "cell_type": "code",
   "execution_count": null,
   "outputs": [],
   "source": [
    "plot_missing_value(df_cat)"
   ],
   "metadata": {
    "collapsed": false,
    "pycharm": {
     "name": "#%%\n"
    }
   }
  },
  {
   "cell_type": "code",
   "execution_count": null,
   "outputs": [],
   "source": [
    "As I can see there are some missing values in the dataset. For example `colb`,`fr_cu_pm_nb`,`tool`,`ff_cf`,and `sin_st` has 17 missing values which is very less compared to the total number of samples so I decided to remove 17 rows with missing values.\n",
    "Now I have decided to remove rows with missing values only for features missing samples are small compare to total number of samples. now I will remove rows where `tool` is missing."
   ],
   "metadata": {
    "collapsed": false,
    "pycharm": {
     "name": "#%%\n"
    }
   }
  },
  {
   "cell_type": "code",
   "execution_count": null,
   "outputs": [],
   "source": [
    "df_cat=df_cat[df_cat['tool'].notna()]\n",
    "plot_missing_value(df_cat)"
   ],
   "metadata": {
    "collapsed": false,
    "pycharm": {
     "name": "#%%\n"
    }
   }
  },
  {
   "cell_type": "markdown",
   "source": [
    "from the above chart it's clear that `h2`, `gr_cat` and `h3` has quite a lot of missing values. So I decide to replace those missing values with \"unknown\". On the other hand I decided to drop `r1_p_b` because of the large number of missing values "
   ],
   "metadata": {
    "collapsed": false
   }
  },
  {
   "cell_type": "markdown",
   "source": [
    "- `bar_char_cat` plot a bar chart for with different values present in the column\n",
    "- `remove_column` remove a specific column from dataframe\n",
    "- `replace_missing_with_unknown` replace missing value for a column with \"Unknown\""
   ],
   "metadata": {
    "collapsed": false
   }
  },
  {
   "cell_type": "code",
   "execution_count": null,
   "outputs": [],
   "source": [
    "def bar_char_cat(cat,df):\n",
    "    df[cat].value_counts().sort_index().plot.bar()\n",
    "    \n",
    "def remove_column(col,df):\n",
    "    df=df.drop(col,1)\n",
    "    return df\n",
    "\n",
    "def replace_missing_with_unknown(col,df):\n",
    "    df[col].fillna('unknown', inplace=True)\n",
    "    return df\n",
    "    \n",
    "# bar_char_cat('gr_cat',df_cat)\n",
    "list_missing_cols=['h2','h3','r1_p_b','gr_cat']\n",
    "\n",
    "for col in list_missing_cols:\n",
    "    df_cat=replace_missing_with_unknown(col,df_cat)"
   ],
   "metadata": {
    "collapsed": false,
    "pycharm": {
     "name": "#%%\n"
    }
   }
  },
  {
   "cell_type": "code",
   "execution_count": null,
   "outputs": [],
   "source": [
    "df_cat=remove_column('r1_p_b',df_cat)\n",
    "df_cat=replace_missing_with_unknown('h2',df_cat)\n",
    "\n",
    "df_cat.head(5)"
   ],
   "metadata": {
    "collapsed": false,
    "pycharm": {
     "name": "#%%\n"
    }
   }
  },
  {
   "cell_type": "markdown",
   "source": [
    "I have decide to use library `catboost` to create a model to understand relationship between features and `out_speed`. In the question you asked me to find \"problematic properties\" (feature values) which result in significant decrease in `out_speed` so if I can find the significant feature among all the features then I can also find the specific feature value for which `out_speed` decrease significantly. \n",
    "\n",
    "I have decided to use catboost library because it allow to use categorical features for regression and also has function to generate feature importance.\n",
    "\n",
    "Before doing that I have created feature matrix and labels "
   ],
   "metadata": {
    "collapsed": false
   }
  },
  {
   "cell_type": "code",
   "execution_count": null,
   "outputs": [],
   "source": [
    "y=df_cat['out_speed']\n",
    "X=remove_column('out_speed',df_cat)"
   ],
   "metadata": {
    "collapsed": false,
    "pycharm": {
     "name": "#%%\n"
    }
   }
  },
  {
   "cell_type": "code",
   "execution_count": null,
   "outputs": [],
   "source": [
    "categorical_features_indices =[0,1,2,3,4,5,6,7]\n",
    "\n",
    "X_train, X_test, y_train, y_test = train_test_split(X, y, test_size=0.2, \n",
    "                                                    random_state=42)\n"
   ],
   "metadata": {
    "collapsed": false,
    "pycharm": {
     "name": "#%%\n"
    }
   }
  },
  {
   "cell_type": "code",
   "execution_count": null,
   "outputs": [],
   "source": [
    "def perform_model(X_train, y_train,X_test, y_test):\n",
    "    model = CatBoostRegressor(\n",
    "        random_seed = 400,\n",
    "        loss_function = 'RMSE',\n",
    "        iterations=100,\n",
    "    )\n",
    "    \n",
    "    model.fit(\n",
    "        X_train, y_train,\n",
    "        cat_features = categorical_features_indices,\n",
    "        eval_set=(X_test, y_test),\n",
    "        verbose=False\n",
    "    )\n",
    "    \n",
    "    print(\"RMSE on training data: \"+ model.score(X_train, y_train).astype(str))\n",
    "    print(\"RMSE on test data: \"+ model.score(X_test, y_test).astype(str))\n",
    "    \n",
    "    return model"
   ],
   "metadata": {
    "collapsed": false,
    "pycharm": {
     "name": "#%%\n"
    }
   }
  },
  {
   "cell_type": "code",
   "execution_count": null,
   "outputs": [],
   "source": [
    "def generate_importance_ranking(model):\n",
    "    feature_score = pd.DataFrame(list(zip(X.dtypes.index, model.get_feature_importance(Pool(X, label=y, cat_features=categorical_features_indices)))),\n",
    "                columns=['Feature','Score'])\n",
    "\n",
    "    feature_score = feature_score.sort_values(by='Score', ascending=False, inplace=False, kind='quicksort', na_position='last')\n",
    "    \n",
    "    plt.rcParams[\"figure.figsize\"] = (10,5)\n",
    "    ax = feature_score.plot('Feature', 'Score', kind='bar', color='c')\n",
    "    ax.set_title(\"Catboost Feature Importance Ranking\", fontsize = 14)\n",
    "    ax.set_xlabel('')\n",
    "\n",
    "    rects = ax.patches\n",
    "\n",
    "    labels = feature_score['Score'].round(2)\n",
    "\n",
    "    for rect, label in zip(rects, labels):\n",
    "        height = rect.get_height()\n",
    "        ax.text(rect.get_x() + rect.get_width()/2, height + 0.35, label, ha='center', va='bottom')\n",
    "\n",
    "    plt.show()"
   ],
   "metadata": {
    "collapsed": false,
    "pycharm": {
     "name": "#%%\n"
    }
   }
  },
  {
   "cell_type": "markdown",
   "source": [
    "Train and test model of the dataset "
   ],
   "metadata": {
    "collapsed": false
   }
  },
  {
   "cell_type": "code",
   "execution_count": null,
   "outputs": [],
   "source": [
    "model=perform_model(X_train, y_train,X_test, y_test)"
   ],
   "metadata": {
    "collapsed": false,
    "pycharm": {
     "name": "#%%\n"
    }
   }
  },
  {
   "cell_type": "markdown",
   "source": [
    "Generate feature importance ranking and ploting them "
   ],
   "metadata": {
    "collapsed": false
   }
  },
  {
   "cell_type": "code",
   "execution_count": null,
   "outputs": [],
   "source": [
    "generate_importance_ranking(model)"
   ],
   "metadata": {
    "collapsed": false,
    "pycharm": {
     "name": "#%%\n"
    }
   }
  },
  {
   "cell_type": "markdown",
   "source": [
    "From the above plot we can see that `gr_cat` is most important feature so I have decided to find mean value for each type of gr_cat value"
   ],
   "metadata": {
    "collapsed": false
   }
  },
  {
   "cell_type": "code",
   "execution_count": null,
   "outputs": [],
   "source": [
    "df_cat[['gr_cat','out_speed']].groupby('gr_cat').mean()"
   ],
   "metadata": {
    "collapsed": false,
    "pycharm": {
     "name": "#%%\n"
    }
   }
  },
  {
   "cell_type": "code",
   "execution_count": null,
   "outputs": [],
   "source": [
    "df_cat[['sin_st','out_speed']].groupby('sin_st').mean()"
   ],
   "metadata": {
    "collapsed": false,
    "pycharm": {
     "name": "#%%\n"
    }
   }
  },
  {
   "cell_type": "markdown",
   "source": [
    "From the above table we can see that (56.0, 66.0] value significantly effect the `out_speed` to decrease it's value. Also same way I can see that if the `sin_st` is \"stecca\" then it decrease the `out_speed`"
   ],
   "metadata": {
    "collapsed": false
   }
  },
  {
   "cell_type": "markdown",
   "source": [
    "## Question 1/b:\n",
    "\n",
    "For the second part of the question 1. I have consider also numerical features along with categorical features. So we will go through the same process.\n",
    "\n",
    "- find the columns with missing values \n",
    "- handle the missing values \n",
    "- check dataset again"
   ],
   "metadata": {
    "collapsed": false
   }
  },
  {
   "cell_type": "code",
   "execution_count": null,
   "outputs": [],
   "source": [
    "plot_missing_value(df)"
   ],
   "metadata": {
    "collapsed": false,
    "pycharm": {
     "name": "#%%\n"
    }
   }
  },
  {
   "cell_type": "code",
   "execution_count": null,
   "outputs": [],
   "source": [
    "list_missing_cols=['h2','h3','r1_p_b','gr_cat']\n",
    "df_all=df[df['tool'].notna()]\n",
    "\n",
    "for col in list_missing_cols:\n",
    "    df_all=replace_missing_with_unknown(col,df_all)\n",
    "\n",
    "df_all=remove_column('r1_p_b',df_all)\n"
   ],
   "metadata": {
    "collapsed": false,
    "pycharm": {
     "name": "#%%\n"
    }
   }
  },
  {
   "cell_type": "code",
   "execution_count": null,
   "outputs": [],
   "source": [
    "plot_missing_value(df_all)"
   ],
   "metadata": {
    "collapsed": false,
    "pycharm": {
     "name": "#%%\n"
    }
   }
  },
  {
   "cell_type": "markdown",
   "source": [
    "Now I will create feature matrix and label from the dataset"
   ],
   "metadata": {
    "collapsed": false
   }
  },
  {
   "cell_type": "code",
   "execution_count": null,
   "outputs": [],
   "source": [
    "y=df_all['out_speed']\n",
    "X=remove_column('out_speed',df_all)\n",
    "X=remove_column('Unnamed: 0',X)"
   ],
   "metadata": {
    "collapsed": false,
    "pycharm": {
     "name": "#%%\n"
    }
   }
  },
  {
   "cell_type": "code",
   "execution_count": null,
   "outputs": [],
   "source": [
    "X.head(5)"
   ],
   "metadata": {
    "collapsed": false,
    "pycharm": {
     "name": "#%%\n"
    }
   }
  },
  {
   "cell_type": "code",
   "execution_count": null,
   "outputs": [],
   "source": [
    "\n",
    "categorical_features_indices =[3,7,8,9,10,12,13,14]\n",
    "\n",
    "X_train, X_test, y_train, y_test = train_test_split(X, y, test_size=0.2, random_state=42)\n"
   ],
   "metadata": {
    "collapsed": false,
    "pycharm": {
     "name": "#%%\n"
    }
   }
  },
  {
   "cell_type": "markdown",
   "source": [
    "Now I have trained the model with catbooostRegressor "
   ],
   "metadata": {
    "collapsed": false
   }
  },
  {
   "cell_type": "code",
   "execution_count": null,
   "outputs": [],
   "source": [
    "model=perform_model(X_train, y_train,X_test, y_test)"
   ],
   "metadata": {
    "collapsed": false,
    "pycharm": {
     "name": "#%%\n"
    }
   }
  },
  {
   "cell_type": "code",
   "execution_count": null,
   "outputs": [],
   "source": [
    "generate_importance_ranking(model)"
   ],
   "metadata": {
    "collapsed": false,
    "pycharm": {
     "name": "#%%\n"
    }
   }
  },
  {
   "cell_type": "markdown",
   "source": [
    "from the feature importance ranking it's clear that `lordo_speed` has significant influence of `out_speed`"
   ],
   "metadata": {
    "collapsed": false
   }
  },
  {
   "cell_type": "code",
   "execution_count": null,
   "outputs": [],
   "source": [
    "plt.plot(df_all['out_speed'].values,df_all['lordo_speed'].values,'bo')\n",
    "plt.ylabel('lordo_speed')\n",
    "plt.xlabel('out_speed')\n",
    "plt.title('Correlation between out_speed and lordo_speed')"
   ],
   "metadata": {
    "collapsed": false,
    "pycharm": {
     "name": "#%%\n"
    }
   }
  },
  {
   "cell_type": "markdown",
   "source": [
    "from the above plot we can see that `out_speed` increases with `lordo_speed`"
   ],
   "metadata": {
    "collapsed": false
   }
  },
  {
   "cell_type": "markdown",
   "source": [
    "## Question 2:\n",
    "To find multiple features which resulting in decrease `out_speed`. I can take the most important features. for example I can take top 5 features and analyze them"
   ],
   "metadata": {
    "collapsed": false
   }
  },
  {
   "cell_type": "code",
   "execution_count": null,
   "outputs": [],
   "source": [
    "generate_importance_ranking(model)"
   ],
   "metadata": {
    "collapsed": false,
    "pycharm": {
     "name": "#%%\n"
    }
   }
  },
  {
   "cell_type": "markdown",
   "source": [
    "So top 5 most important features are `lordo_speed`,`volume`,`gaps`,`mano`,and `h1`."
   ],
   "metadata": {
    "collapsed": false
   }
  },
  {
   "cell_type": "code",
   "execution_count": null,
   "outputs": [],
   "source": [
    "grouped_df=df_all[['lordo_speed','volume','gaps','mano','h1','out_speed']].groupby('out_speed')\n",
    "\n",
    "for key, item in grouped_df:\n",
    "    print(grouped_df.get_group(key), \"\\n\\n\")"
   ],
   "metadata": {
    "collapsed": false,
    "pycharm": {
     "name": "#%%\n"
    }
   }
  },
  {
   "cell_type": "markdown",
   "source": [
    "## Tests "
   ],
   "metadata": {
    "collapsed": false
   }
  },
  {
   "cell_type": "code",
   "execution_count": null,
   "outputs": [],
   "source": [],
   "metadata": {
    "collapsed": false,
    "pycharm": {
     "name": "#%%\n"
    }
   }
  },
  {
   "cell_type": "code",
   "execution_count": null,
   "outputs": [],
   "source": [],
   "metadata": {
    "collapsed": false,
    "pycharm": {
     "name": "#%%\n"
    }
   }
  }
 ],
 "metadata": {
  "hide_input": false,
  "jupytext": {
   "cell_metadata_filter": "-Collapsed"
  },
  "kernelspec": {
   "display_name": "Python 3",
   "language": "python",
   "name": "python3"
  },
  "language_info": {
   "codemirror_mode": {
    "name": "ipython",
    "version": 3
   },
   "file_extension": ".py",
   "mimetype": "text/x-python",
   "name": "python",
   "nbconvert_exporter": "python",
   "pygments_lexer": "ipython3",
   "version": "3.7.7"
  },
  "pycharm": {
   "stem_cell": {
    "cell_type": "raw",
    "source": [],
    "metadata": {
     "collapsed": false
    }
   }
  },
  "toc": {
   "base_numbering": 1,
   "nav_menu": {},
   "number_sections": true,
   "sideBar": true,
   "skip_h1_title": false,
   "title_cell": "Table of Contents",
   "title_sidebar": "Contents",
   "toc_cell": false,
   "toc_position": {},
   "toc_section_display": true,
   "toc_window_display": false
  }
 },
 "nbformat": 4,
 "nbformat_minor": 4
}